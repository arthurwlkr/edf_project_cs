{
 "cells": [
  {
   "cell_type": "code",
   "execution_count": null,
   "id": "ba43070f",
   "metadata": {},
   "outputs": [],
   "source": [
    "import torch\n",
    "import numpy as np\n",
    "import pandas as pd\n",
    "import matplotlib.pyplot as plt\n",
    "\n",
    "from neuralforecast.core import NeuralForecast\n",
    "from neuralforecast.models import NHITS, NBEATS, PatchTST\n",
    "from neuralforecast.losses.numpy import mae, mse"
   ]
  },
  {
   "cell_type": "code",
   "execution_count": null,
   "id": "796abb00",
   "metadata": {},
   "outputs": [],
   "source": [
    "torch.cuda.is_available()"
   ]
  },
  {
   "cell_type": "code",
   "execution_count": null,
   "id": "52121f4b",
   "metadata": {},
   "outputs": [],
   "source": [
    "Y_df = pd.read_csv('data/data_PatchTST_50.csv')\n",
    "Y_df"
   ]
  },
  {
   "cell_type": "code",
   "execution_count": null,
   "id": "a5bbfefd",
   "metadata": {},
   "outputs": [],
   "source": [
    "print(len(Y_df['unique_id'].unique()))"
   ]
  },
  {
   "cell_type": "code",
   "execution_count": null,
   "id": "495dfd7c",
   "metadata": {},
   "outputs": [],
   "source": [
    "Y_df['ds'] = pd.to_datetime(Y_df['ds'])\n",
    "Y_df.head()"
   ]
  },
  {
   "cell_type": "code",
   "execution_count": null,
   "id": "79655028",
   "metadata": {},
   "outputs": [],
   "source": [
    "Y_df['unique_id'].value_counts()"
   ]
  },
  {
   "cell_type": "code",
   "execution_count": null,
   "id": "de1c0115",
   "metadata": {},
   "outputs": [],
   "source": [
    "n_time = len(Y_df.ds.unique())\n",
    "val_size = 760\n",
    "test_size = 1517\n",
    "\n",
    "print(n_time, val_size, test_size)\n",
    "\n",
    "Y_df.groupby('unique_id').head(2)"
   ]
  },
  {
   "cell_type": "code",
   "execution_count": null,
   "id": "46751f91",
   "metadata": {},
   "outputs": [],
   "source": [
    "unique_id = Y_df['unique_id'].unique()\n",
    "unique_id = np.sort(unique_id)\n",
    "print(len(unique_id))\n",
    "unique_id"
   ]
  },
  {
   "cell_type": "code",
   "execution_count": null,
   "id": "b80d100f",
   "metadata": {},
   "outputs": [],
   "source": [
    "# Plot previous data for one client\n",
    "u_id = unique_id[0]\n",
    "\n",
    "x_plot = pd.to_datetime(Y_df[Y_df.unique_id==u_id].ds)\n",
    "y_plot = Y_df[Y_df.unique_id==u_id].y.values\n",
    "\n",
    "x_val = x_plot[n_time - val_size - test_size]\n",
    "x_test = x_plot[n_time - test_size]\n",
    "\n",
    "fig, ax = plt.subplots(figsize=(12,8))\n",
    "ax.plot(x_plot, y_plot)\n",
    "ax.set_xlabel('Horodate')\n",
    "ax.set_ylabel('Puissance_W')\n",
    "ax.axvline(x_val, color='black', linestyle='--')\n",
    "ax.axvline(x_test, color='black', linestyle='--')\n",
    "\n",
    "plt.text(x_val, -2, 'Validation', fontsize=12)\n",
    "plt.text(x_test,-2, 'Test', fontsize=12)\n",
    "\n",
    "plt.tight_layout()"
   ]
  },
  {
   "cell_type": "code",
   "execution_count": null,
   "id": "9acc0034",
   "metadata": {},
   "outputs": [],
   "source": [
    "horizon = 96\n",
    "n_epochs = 100\n",
    "\n",
    "# 2 state-of-the-art models and PatchTST given 14 previous days to forecast next 2 days\n",
    "models = [NHITS(h=horizon,\n",
    "                input_size=7*horizon,\n",
    "                max_steps=n_epochs),\n",
    "          NBEATS(h=horizon,\n",
    "                 input_size=7*horizon,\n",
    "                 max_steps=n_epochs),\n",
    "          PatchTST(h=horizon,\n",
    "                   input_size=7*horizon,\n",
    "                   max_steps=n_epochs)]"
   ]
  },
  {
   "cell_type": "code",
   "execution_count": null,
   "id": "8bb6f94e",
   "metadata": {},
   "outputs": [],
   "source": [
    "# Forecast frequency: 30 minutes\n",
    "nf = NeuralForecast(models=models, freq=pd.tseries.offsets.Minute(30))"
   ]
  },
  {
   "cell_type": "code",
   "execution_count": null,
   "id": "c3aae31b",
   "metadata": {},
   "outputs": [],
   "source": [
    "# Process forecasting for the 3 models\n",
    "preds_df = nf.cross_validation(df=Y_df, val_size=val_size, test_size=test_size, n_windows=None)"
   ]
  },
  {
   "cell_type": "code",
   "execution_count": null,
   "id": "a6d0a8c9",
   "metadata": {},
   "outputs": [],
   "source": [
    "# Display predictions\n",
    "preds_df"
   ]
  },
  {
   "cell_type": "code",
   "execution_count": null,
   "id": "7869120d",
   "metadata": {},
   "outputs": [],
   "source": [
    "# Save trained model\n",
    "nf.save('model/patchtst_model')"
   ]
  },
  {
   "cell_type": "code",
   "execution_count": null,
   "id": "4505e045",
   "metadata": {},
   "outputs": [],
   "source": [
    "x_true = preds_df['ds'].values\n",
    "y_true = preds_df['y'].values\n",
    "y_pred_nhits = preds_df['NHITS'].values\n",
    "y_pred_nbeats = preds_df['NBEATS'].values\n",
    "y_pred_patchtst = preds_df['PatchTST'].values\n",
    "\n",
    "n_series = len(Y_df['unique_id'].unique())\n",
    "\n",
    "x_true = x_true.reshape(n_series, -1, horizon)\n",
    "y_true = y_true.reshape(n_series, -1, horizon)\n",
    "y_pred_nhits = y_pred_nhits.reshape(n_series, -1, horizon)\n",
    "y_pred_nbeats = y_pred_nbeats.reshape(n_series, -1, horizon)\n",
    "y_pred_patchtst = y_pred_patchtst.reshape(n_series, -1, horizon)\n",
    "\n",
    "print(y_true.shape)\n",
    "print(y_pred_nhits.shape)"
   ]
  },
  {
   "cell_type": "code",
   "execution_count": null,
   "id": "7849b0bc",
   "metadata": {},
   "outputs": [],
   "source": [
    "# Plot forecastings for client 'i'\n",
    "fig, ax = plt.subplots(figsize=(16,8))\n",
    "i = 0\n",
    "\n",
    "ax.plot(x_true[i, 0, :], y_true[i, 0, :], label='True')\n",
    "ax.plot(x_true[i, 0, :], y_pred_nhits[i, 0, :], label='N-HiTS', ls='--')\n",
    "ax.plot(x_true[i, 0, :], y_pred_nbeats[i, 0, :], label='N-BEATS', ls=':')\n",
    "ax.plot(x_true[i, 0, :], y_pred_patchtst[i, 0, :], label='PatchTST', ls='-.')\n",
    "ax.set_ylabel('Puissance_W')\n",
    "ax.set_xlabel('Horodate')\n",
    "ax.legend(loc='best')\n",
    "\n",
    "plt.tight_layout()"
   ]
  },
  {
   "cell_type": "code",
   "execution_count": null,
   "id": "b0580851",
   "metadata": {},
   "outputs": [],
   "source": [
    "fig, ax = plt.subplots(2, 1, sharex=True, figsize=(16, 8))\n",
    "i1 = 0\n",
    "i2 = 1\n",
    "\n",
    "ax[0].plot(x_true[i1, 0, :], y_true[i1, 0, :], label='True')\n",
    "ax[0].plot(x_true[i1, 0, :], y_pred_patchtst[i1, 0, :], label='PatchTST', ls='-.')\n",
    "ax[0].set_ylabel('Puissance [W]')\n",
    "ax[0].legend(loc='best')\n",
    "ax[0].set_title(f'client {unique_id[i1]}')\n",
    "ax[1].plot(x_true[i2, 0, :], y_true[i2, 0, :], label='True')\n",
    "ax[1].plot(x_true[i2, 0, :], y_pred_patchtst[i2, 0, :], label='PatchTST', ls='-.')\n",
    "ax[1].set_ylabel('Puissance [W]')\n",
    "ax[1].set_xlabel('Horodate')\n",
    "ax[1].legend(loc='best')\n",
    "ax[1].set_title(f'client {unique_id[i2]}')\n",
    "\n",
    "plt.tight_layout()"
   ]
  },
  {
   "cell_type": "code",
   "execution_count": null,
   "id": "b3dd3a02",
   "metadata": {},
   "outputs": [],
   "source": [
    "# Compute MSE score on entire prediction for the 3 models\n",
    "data = {'N-HiTS': [mae(y_pred_nhits, y_true), mse(y_pred_nhits, y_true)],\n",
    "       'N-BEATS': [mae(y_pred_nbeats, y_true), mse(y_pred_nbeats, y_true)],\n",
    "       'PatchTST': [mae(y_pred_patchtst, y_true), mse(y_pred_patchtst, y_true)]}\n",
    "\n",
    "metrics_df = pd.DataFrame(data=data)\n",
    "metrics_df.index = ['mae', 'mse']\n",
    "\n",
    "metrics_df.style.highlight_min(color='lightgreen', axis=1)"
   ]
  }
 ],
 "metadata": {
  "kernelspec": {
   "display_name": "Python 3 (ipykernel)",
   "language": "python",
   "name": "python3"
  },
  "language_info": {
   "codemirror_mode": {
    "name": "ipython",
    "version": 3
   },
   "file_extension": ".py",
   "mimetype": "text/x-python",
   "name": "python",
   "nbconvert_exporter": "python",
   "pygments_lexer": "ipython3",
   "version": "3.11.1"
  }
 },
 "nbformat": 4,
 "nbformat_minor": 5
}
