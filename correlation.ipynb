{
 "cells": [
  {
   "cell_type": "markdown",
   "metadata": {},
   "source": [
    "Ce fichier explore une méthode par corrélation temporelle. Pour faire la prédiction à un instant, on regrade à quel moment le signal etait proche du signal à ce moment. "
   ]
  },
  {
   "cell_type": "code",
   "execution_count": 1,
   "metadata": {},
   "outputs": [],
   "source": [
    "import numpy as np\n",
    "import pandas as pd\n",
    "import matplotlib.pyplot as plt\n",
    "import seaborn as sns\n",
    "import datetime\n",
    "from tqdm import tqdm\n",
    "\n",
    "calendrier_challenge = pd.read_parquet(\"Données/challenge_data/calendrier_challenge.parquet\")\n",
    "questionnaire = pd.read_parquet(\"Données/challenge_data/questionnaire.parquet\")\n",
    "consos_challenge = pd.read_parquet(\"Données/challenge_data/consos_challenge.parquet\")\n",
    "temperatures = pd.read_parquet(\"Données/challenge_data/temperatures.parquet\")\n",
    "\n",
    "min_date = datetime.datetime(2009,7,15)\n",
    "max_date=datetime.datetime(2011,1,1)\n",
    "all_clients = list(set(consos_challenge[\"id_client\"]))\n",
    "day = datetime.datetime(2011,1,2)-datetime.datetime(2011,1,1)\n",
    "hour = datetime.datetime(2011,1,2,12)-datetime.datetime(2011,1,2,11)\n",
    "client_challenges = np.array(questionnaire[questionnaire[\"participe_challenge\"]==True].id_client)\n",
    "client_nochallenges = np.array(questionnaire[questionnaire[\"participe_challenge\"]==False].id_client)\n",
    "n_days = (max_date-min_date).days-365"
   ]
  },
  {
   "cell_type": "code",
   "execution_count": 3,
   "metadata": {},
   "outputs": [],
   "source": [
    "def correlation(big_signal,small_signal):\n",
    "    n_small = len(small_signal)\n",
    "    n_big = len(big_signal)\n",
    "    result = []\n",
    "    for i in range(n_big-n_small):\n",
    "        result.append(np.sum(small_signal*(big_signal[i:n_small+i]))/np.sum(big_signal[i:n_small+i]))\n",
    "    return np.array(result)\n",
    "\n",
    "\n",
    "def load_signal(id_client,min_time,max_time):\n",
    "\n",
    "    data = consos_challenge[consos_challenge[\"id_client\"]==id_client]\n",
    "    data1 = data[data[\"horodate\"]>min_time]\n",
    "    return data1[data1[\"horodate\"]<=max_time].puissance_W\n"
   ]
  },
  {
   "cell_type": "markdown",
   "metadata": {},
   "source": [
    "Correlation : tout les signaux sur le même jour 8h-13h ou 18h-21h"
   ]
  },
  {
   "cell_type": "code",
   "execution_count": 4,
   "metadata": {},
   "outputs": [
    {
     "name": "stderr",
     "output_type": "stream",
     "text": [
      "  0%|          | 0/307 [00:00<?, ?it/s]"
     ]
    },
    {
     "name": "stderr",
     "output_type": "stream",
     "text": [
      " 40%|████      | 68/170 [00:34<00:51,  1.98it/s]\n",
      "  0%|          | 0/307 [00:34<?, ?it/s]\n"
     ]
    },
    {
     "ename": "KeyboardInterrupt",
     "evalue": "",
     "output_type": "error",
     "traceback": [
      "\u001b[1;31m---------------------------------------------------------------------------\u001b[0m",
      "\u001b[1;31mKeyboardInterrupt\u001b[0m                         Traceback (most recent call last)",
      "Cell \u001b[1;32mIn[4], line 30\u001b[0m\n\u001b[0;32m     28\u001b[0m end_predict \u001b[38;5;241m=\u001b[39m min_date\u001b[38;5;241m+\u001b[39m(\u001b[38;5;241m365\u001b[39m\u001b[38;5;241m+\u001b[39mn_day)\u001b[38;5;241m*\u001b[39mday\u001b[38;5;241m+\u001b[39m\u001b[38;5;241m21\u001b[39m\u001b[38;5;241m*\u001b[39mhour\n\u001b[0;32m     29\u001b[0m signal_to_predict \u001b[38;5;241m=\u001b[39m np\u001b[38;5;241m.\u001b[39marray(load_signal(\u001b[38;5;28mid\u001b[39m,begin_predict,end_predict))\n\u001b[1;32m---> 30\u001b[0m signal,id_corr \u001b[38;5;241m=\u001b[39m \u001b[43mpredict_corr\u001b[49m\u001b[43m(\u001b[49m\u001b[43mbegin_predict\u001b[49m\u001b[43m,\u001b[49m\u001b[43mend_predict\u001b[49m\u001b[43m,\u001b[49m\u001b[38;5;28;43mid\u001b[39;49m\u001b[43m)\u001b[49m\n\u001b[0;32m     31\u001b[0m y_predict\u001b[38;5;241m.\u001b[39mappend(signal)\n\u001b[0;32m     32\u001b[0m y_test\u001b[38;5;241m.\u001b[39mappend(np\u001b[38;5;241m.\u001b[39marray(load_signal(\u001b[38;5;28mid\u001b[39m,begin_predict,end_predict)))\n",
      "Cell \u001b[1;32mIn[4], line 19\u001b[0m, in \u001b[0;36mpredict_corr\u001b[1;34m(begin_date, end_date, idclient)\u001b[0m\n\u001b[0;32m     17\u001b[0m             max_corr \u001b[38;5;241m=\u001b[39m corr\n\u001b[0;32m     18\u001b[0m             max_id \u001b[38;5;241m=\u001b[39m client\n\u001b[1;32m---> 19\u001b[0m             max_signal \u001b[38;5;241m=\u001b[39m np\u001b[38;5;241m.\u001b[39marray(\u001b[43mload_signal\u001b[49m\u001b[43m(\u001b[49m\u001b[43mclient\u001b[49m\u001b[43m,\u001b[49m\u001b[43mbegin_date\u001b[49m\u001b[43m,\u001b[49m\u001b[43mend_date\u001b[49m\u001b[43m)\u001b[49m)\n\u001b[0;32m     21\u001b[0m \u001b[38;5;28;01mreturn\u001b[39;00m max_signal,max_id\n",
      "Cell \u001b[1;32mIn[3], line 12\u001b[0m, in \u001b[0;36mload_signal\u001b[1;34m(id_client, min_time, max_time)\u001b[0m\n\u001b[0;32m     10\u001b[0m \u001b[38;5;28;01mdef\u001b[39;00m \u001b[38;5;21mload_signal\u001b[39m(id_client,min_time,max_time):\n\u001b[1;32m---> 12\u001b[0m     data \u001b[38;5;241m=\u001b[39m \u001b[43mconsos_challenge\u001b[49m\u001b[43m[\u001b[49m\u001b[43mconsos_challenge\u001b[49m\u001b[43m[\u001b[49m\u001b[38;5;124;43m\"\u001b[39;49m\u001b[38;5;124;43mid_client\u001b[39;49m\u001b[38;5;124;43m\"\u001b[39;49m\u001b[43m]\u001b[49m\u001b[38;5;241;43m==\u001b[39;49m\u001b[43mid_client\u001b[49m\u001b[43m]\u001b[49m\n\u001b[0;32m     13\u001b[0m     data1 \u001b[38;5;241m=\u001b[39m data[data[\u001b[38;5;124m\"\u001b[39m\u001b[38;5;124mhorodate\u001b[39m\u001b[38;5;124m\"\u001b[39m]\u001b[38;5;241m>\u001b[39mmin_time]\n\u001b[0;32m     14\u001b[0m     \u001b[38;5;28;01mreturn\u001b[39;00m data1[data1[\u001b[38;5;124m\"\u001b[39m\u001b[38;5;124mhorodate\u001b[39m\u001b[38;5;124m\"\u001b[39m]\u001b[38;5;241m<\u001b[39m\u001b[38;5;241m=\u001b[39mmax_time]\u001b[38;5;241m.\u001b[39mpuissance_W\n",
      "File \u001b[1;32mc:\\Users\\paulc\\anaconda3\\lib\\site-packages\\pandas\\core\\frame.py:3751\u001b[0m, in \u001b[0;36mDataFrame.__getitem__\u001b[1;34m(self, key)\u001b[0m\n\u001b[0;32m   3749\u001b[0m \u001b[38;5;66;03m# Do we have a (boolean) 1d indexer?\u001b[39;00m\n\u001b[0;32m   3750\u001b[0m \u001b[38;5;28;01mif\u001b[39;00m com\u001b[38;5;241m.\u001b[39mis_bool_indexer(key):\n\u001b[1;32m-> 3751\u001b[0m     \u001b[38;5;28;01mreturn\u001b[39;00m \u001b[38;5;28;43mself\u001b[39;49m\u001b[38;5;241;43m.\u001b[39;49m\u001b[43m_getitem_bool_array\u001b[49m\u001b[43m(\u001b[49m\u001b[43mkey\u001b[49m\u001b[43m)\u001b[49m\n\u001b[0;32m   3753\u001b[0m \u001b[38;5;66;03m# We are left with two options: a single key, and a collection of keys,\u001b[39;00m\n\u001b[0;32m   3754\u001b[0m \u001b[38;5;66;03m# We interpret tuples as collections only for non-MultiIndex\u001b[39;00m\n\u001b[0;32m   3755\u001b[0m is_single_key \u001b[38;5;241m=\u001b[39m \u001b[38;5;28misinstance\u001b[39m(key, \u001b[38;5;28mtuple\u001b[39m) \u001b[38;5;129;01mor\u001b[39;00m \u001b[38;5;129;01mnot\u001b[39;00m is_list_like(key)\n",
      "File \u001b[1;32mc:\\Users\\paulc\\anaconda3\\lib\\site-packages\\pandas\\core\\frame.py:3806\u001b[0m, in \u001b[0;36mDataFrame._getitem_bool_array\u001b[1;34m(self, key)\u001b[0m\n\u001b[0;32m   3802\u001b[0m \u001b[38;5;66;03m# check_bool_indexer will throw exception if Series key cannot\u001b[39;00m\n\u001b[0;32m   3803\u001b[0m \u001b[38;5;66;03m# be reindexed to match DataFrame rows\u001b[39;00m\n\u001b[0;32m   3804\u001b[0m key \u001b[38;5;241m=\u001b[39m check_bool_indexer(\u001b[38;5;28mself\u001b[39m\u001b[38;5;241m.\u001b[39mindex, key)\n\u001b[1;32m-> 3806\u001b[0m \u001b[38;5;28;01mif\u001b[39;00m \u001b[43mkey\u001b[49m\u001b[38;5;241;43m.\u001b[39;49m\u001b[43mall\u001b[49m\u001b[43m(\u001b[49m\u001b[43m)\u001b[49m:\n\u001b[0;32m   3807\u001b[0m     \u001b[38;5;28;01mreturn\u001b[39;00m \u001b[38;5;28mself\u001b[39m\u001b[38;5;241m.\u001b[39mcopy(deep\u001b[38;5;241m=\u001b[39m\u001b[38;5;28;01mNone\u001b[39;00m)\n\u001b[0;32m   3809\u001b[0m indexer \u001b[38;5;241m=\u001b[39m key\u001b[38;5;241m.\u001b[39mnonzero()[\u001b[38;5;241m0\u001b[39m]\n",
      "File \u001b[1;32mc:\\Users\\paulc\\anaconda3\\lib\\site-packages\\numpy\\core\\_methods.py:64\u001b[0m, in \u001b[0;36m_all\u001b[1;34m(a, axis, dtype, out, keepdims, where)\u001b[0m\n\u001b[0;32m     61\u001b[0m \u001b[38;5;28;01mdef\u001b[39;00m \u001b[38;5;21m_all\u001b[39m(a, axis\u001b[38;5;241m=\u001b[39m\u001b[38;5;28;01mNone\u001b[39;00m, dtype\u001b[38;5;241m=\u001b[39m\u001b[38;5;28;01mNone\u001b[39;00m, out\u001b[38;5;241m=\u001b[39m\u001b[38;5;28;01mNone\u001b[39;00m, keepdims\u001b[38;5;241m=\u001b[39m\u001b[38;5;28;01mFalse\u001b[39;00m, \u001b[38;5;241m*\u001b[39m, where\u001b[38;5;241m=\u001b[39m\u001b[38;5;28;01mTrue\u001b[39;00m):\n\u001b[0;32m     62\u001b[0m     \u001b[38;5;66;03m# Parsing keyword arguments is currently fairly slow, so avoid it for now\u001b[39;00m\n\u001b[0;32m     63\u001b[0m     \u001b[38;5;28;01mif\u001b[39;00m where \u001b[38;5;129;01mis\u001b[39;00m \u001b[38;5;28;01mTrue\u001b[39;00m:\n\u001b[1;32m---> 64\u001b[0m         \u001b[38;5;28;01mreturn\u001b[39;00m \u001b[43mumr_all\u001b[49m\u001b[43m(\u001b[49m\u001b[43ma\u001b[49m\u001b[43m,\u001b[49m\u001b[43m \u001b[49m\u001b[43maxis\u001b[49m\u001b[43m,\u001b[49m\u001b[43m \u001b[49m\u001b[43mdtype\u001b[49m\u001b[43m,\u001b[49m\u001b[43m \u001b[49m\u001b[43mout\u001b[49m\u001b[43m,\u001b[49m\u001b[43m \u001b[49m\u001b[43mkeepdims\u001b[49m\u001b[43m)\u001b[49m\n\u001b[0;32m     65\u001b[0m     \u001b[38;5;28;01mreturn\u001b[39;00m umr_all(a, axis, dtype, out, keepdims, where\u001b[38;5;241m=\u001b[39mwhere)\n",
      "\u001b[1;31mKeyboardInterrupt\u001b[0m: "
     ]
    }
   ],
   "source": [
    "def predict_corr(begin_date,end_date,idclient):\n",
    "    data_time = consos_challenge[consos_challenge[\"horodate\"]>begin_date-day]\n",
    "    data_time = data_time[data_time[\"horodate\"]<=begin_date]\n",
    "    signal_around = data_time[data_time[\"id_client\"]==idclient]['puissance_W']\n",
    "    signal_around = signal_around-np.mean(signal_around)\n",
    "    signal_around = signal_around/np.mean(signal_around**2)**0.5\n",
    "    max_corr = 0\n",
    "    max_id = 0\n",
    "    max_signal = None\n",
    "    for client in client_nochallenges:\n",
    "        if idclient != client:\n",
    "            signal_compared = np.array(data_time[data_time[\"id_client\"]==client]['puissance_W'])\n",
    "            signal_compared = signal_compared-np.mean(signal_compared)\n",
    "            signal_compared=signal_compared/(np.mean(signal_compared**2)**0.5+1e-5)\n",
    "            corr = np.mean(signal_compared*signal_around)\n",
    "            if corr>max_corr:\n",
    "                max_corr = corr\n",
    "                max_id = client\n",
    "                max_signal = np.array(load_signal(client,begin_date,end_date))\n",
    "\n",
    "    return max_signal,max_id\n",
    "\n",
    "y_predict = []\n",
    "y_test = []\n",
    "for id in client_challenges:\n",
    "    for n_day in tqdm(range(n_days)):\n",
    "        begin_predict = min_date+(365+n_day)*day+18*hour\n",
    "        end_predict = min_date+(365+n_day)*day+21*hour\n",
    "        signal_to_predict = np.array(load_signal(id,begin_predict,end_predict))\n",
    "        signal,id_corr = predict_corr(begin_predict,end_predict,id)\n",
    "        y_predict.append(signal)\n",
    "        y_test.append(np.array(load_signal(id,begin_predict,end_predict)))\n",
    "\n",
    "y_test = np.array(y_test)\n",
    "y_predict=np.array(y_predict)\n",
    "print(np.mean((y_test-y_predict)**2)**0.5)\n",
    "\n",
    "plt.plot(y_predict[10])\n",
    "plt.plot(y_test[10])\n",
    "plt.show()\n",
    "# plt.plot(signal_around)\n",
    "# plt.plot(signal_compared)"
   ]
  }
 ],
 "metadata": {
  "kernelspec": {
   "display_name": "base",
   "language": "python",
   "name": "python3"
  },
  "language_info": {
   "codemirror_mode": {
    "name": "ipython",
    "version": 3
   },
   "file_extension": ".py",
   "mimetype": "text/x-python",
   "name": "python",
   "nbconvert_exporter": "python",
   "pygments_lexer": "ipython3",
   "version": "3.8.18"
  }
 },
 "nbformat": 4,
 "nbformat_minor": 2
}
